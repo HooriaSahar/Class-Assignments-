{
 "cells": [
  {
   "cell_type": "markdown",
   "id": "bc1d5cae",
   "metadata": {},
   "source": [
    "# Assign a message to a variable, and then print that message."
   ]
  },
  {
   "cell_type": "code",
   "execution_count": 1,
   "id": "57f00175",
   "metadata": {},
   "outputs": [
    {
     "name": "stdout",
     "output_type": "stream",
     "text": [
      "Love Pakistan, Build Pakistan\n"
     ]
    }
   ],
   "source": [
    "message= \"Love Pakistan, Build Pakistan\"\n",
    "print(message)"
   ]
  },
  {
   "cell_type": "markdown",
   "id": "cc09035e",
   "metadata": {},
   "source": [
    "# Find a quote from a famous person you admire. Print the quote and the name of its author.\n"
   ]
  },
  {
   "cell_type": "code",
   "execution_count": 9,
   "id": "0580e8b8",
   "metadata": {},
   "outputs": [
    {
     "name": "stdout",
     "output_type": "stream",
     "text": [
      "Tim Sanders ones said, \"If you want something you never had, Then you've got to do something you've never done.\"\n"
     ]
    }
   ],
   "source": [
    "#Albert Einstein once said, “A person who never made a mistake never tried anything new.”\n",
    "quote=\"\\\"If you want something you never had, Then you've got to do something you've never done.\\\"\"\n",
    "Auther= \"Tim Sanders\"\n",
    "print(Auther +\" ones said, \" + quote )"
   ]
  },
  {
   "cell_type": "markdown",
   "id": "edbafdbd",
   "metadata": {},
   "source": [
    "# Calculate Area of a Circle::\n",
    "Write a Python program which accepts the radius of a circle from the user and compute the area.\n",
    "\n",
    "Program Console Sample Output 1:\n",
    "\n",
    "Input Radius: 0.5\n",
    "\n",
    "Area of Circle with radius 0.5 is 0.7853981634"
   ]
  },
  {
   "cell_type": "code",
   "execution_count": 22,
   "id": "317c82e7",
   "metadata": {},
   "outputs": [
    {
     "name": "stdout",
     "output_type": "stream",
     "text": [
      "please enter the Radius of the circle.5\n",
      "Area of Circle with radius 0.5 is 0.78525\n"
     ]
    }
   ],
   "source": [
    "pi= (3.141)\n",
    "radius=float(input(\"please enter the Radius of the circle\"))\n",
    "result= str(pi*radius*radius)\n",
    "print(\"Area of Circle with radius 0.5 is \" +result)"
   ]
  },
  {
   "cell_type": "markdown",
   "id": "b1ca0301",
   "metadata": {},
   "source": [
    "# Check Number either positive, negative or zero::\n",
    "Write a Python program to check if a number is positive,\n",
    "\n",
    "negative or zero\n",
    "\n",
    "Program Console Sample Output 1:\n",
    "\n",
    "Enter Number: -1\n",
    "\n",
    "Negative Number Entered\n",
    "\n",
    "Program Console Sample Output 2:\n",
    "\n",
    "Integer: 3\n",
    "\n",
    "Positive Number Entered\n",
    "\n",
    "Program Console Sample Output 3:\n",
    "\n",
    "Integer: 0\n",
    "\n",
    "Zero Entered"
   ]
  },
  {
   "cell_type": "code",
   "execution_count": 30,
   "id": "13e41df9",
   "metadata": {},
   "outputs": [
    {
     "name": "stdout",
     "output_type": "stream",
     "text": [
      "Enter a number: 4\n",
      "Positive Number Entered\n"
     ]
    }
   ],
   "source": [
    "num = float(input(\"Enter a number: \"))\n",
    "if num <0:\n",
    "   print(\"Negative Number Entered\")\n",
    "elif num == 0:\n",
    "   print(\"Zero Entered\")\n",
    "elif num>0:\n",
    "    print(\"Positive Number Entered\")\n",
    "    "
   ]
  },
  {
   "cell_type": "markdown",
   "id": "4fd6a357",
   "metadata": {},
   "source": [
    "# Vowel Tester Write a Python program to test whether a passed letter is a vowel or not\n",
    "Program Console Output 1:\n",
    "\n",
    "Enter a character: A\n",
    "\n",
    "Letter A is Vowel\n",
    "\n",
    "Program Console Output 2:\n",
    "\n",
    "Enter a character: e\n",
    "\n",
    "Letter e is Vowel\n",
    "\n",
    "Program Console Output 2:\n",
    "\n",
    "Enter a character: N\n",
    "\n",
    "Letter N is not Vowel."
   ]
  },
  {
   "cell_type": "code",
   "execution_count": 33,
   "id": "e75ccf1f",
   "metadata": {},
   "outputs": [
    {
     "name": "stdout",
     "output_type": "stream",
     "text": [
      "Input a letter of the alphabet: O\n",
      "O is a vowel.\n"
     ]
    }
   ],
   "source": [
    "alphabet = input(\"Input a letter of the alphabet: \")\n",
    "\n",
    "if alphabet in ('a', 'e', 'i', 'o', 'u','A','E','I','O','U'):\n",
    "    print(alphabet,\"is a vowel.\")\n",
    "else:\n",
    "    print(\"alphabet is not Vowel.\") "
   ]
  },
  {
   "cell_type": "code",
   "execution_count": null,
   "id": "30479c75",
   "metadata": {},
   "outputs": [],
   "source": []
  },
  {
   "cell_type": "code",
   "execution_count": null,
   "id": "d4396644",
   "metadata": {},
   "outputs": [],
   "source": []
  }
 ],
 "metadata": {
  "kernelspec": {
   "display_name": "Python 3 (ipykernel)",
   "language": "python",
   "name": "python3"
  },
  "language_info": {
   "codemirror_mode": {
    "name": "ipython",
    "version": 3
   },
   "file_extension": ".py",
   "mimetype": "text/x-python",
   "name": "python",
   "nbconvert_exporter": "python",
   "pygments_lexer": "ipython3",
   "version": "3.9.12"
  }
 },
 "nbformat": 4,
 "nbformat_minor": 5
}
