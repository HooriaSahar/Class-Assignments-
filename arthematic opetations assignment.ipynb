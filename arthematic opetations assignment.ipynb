{
 "cells": [
  {
   "cell_type": "code",
   "execution_count": 7,
   "id": "79efd851",
   "metadata": {},
   "outputs": [
    {
     "name": "stdout",
     "output_type": "stream",
     "text": [
      "select your first number8\n",
      "select your second number8\n"
     ]
    }
   ],
   "source": [
    "digit1= int(input(\"select your first number\"))\n",
    "digit2= int(input(\"select your second number\"))"
   ]
  },
  {
   "cell_type": "code",
   "execution_count": 9,
   "id": "ce73e0cd",
   "metadata": {},
   "outputs": [
    {
     "name": "stdout",
     "output_type": "stream",
     "text": [
      "16\n"
     ]
    }
   ],
   "source": [
    "addition=print(digit1 + digit2)"
   ]
  },
  {
   "cell_type": "code",
   "execution_count": 10,
   "id": "57067c07",
   "metadata": {},
   "outputs": [
    {
     "name": "stdout",
     "output_type": "stream",
     "text": [
      "0\n"
     ]
    }
   ],
   "source": [
    "subtract=print(digit1 - digit2)"
   ]
  },
  {
   "cell_type": "code",
   "execution_count": 11,
   "id": "e26a244e",
   "metadata": {},
   "outputs": [
    {
     "name": "stdout",
     "output_type": "stream",
     "text": [
      "64\n"
     ]
    }
   ],
   "source": [
    "multiplcation= print (digit1 * digit2)"
   ]
  },
  {
   "cell_type": "code",
   "execution_count": 12,
   "id": "d52d2f16",
   "metadata": {},
   "outputs": [
    {
     "name": "stdout",
     "output_type": "stream",
     "text": [
      "1.0\n"
     ]
    }
   ],
   "source": [
    "division= print (digit1 / digit2)"
   ]
  },
  {
   "cell_type": "code",
   "execution_count": null,
   "id": "7eb14d14",
   "metadata": {},
   "outputs": [],
   "source": []
  }
 ],
 "metadata": {
  "kernelspec": {
   "display_name": "Python 3 (ipykernel)",
   "language": "python",
   "name": "python3"
  },
  "language_info": {
   "codemirror_mode": {
    "name": "ipython",
    "version": 3
   },
   "file_extension": ".py",
   "mimetype": "text/x-python",
   "name": "python",
   "nbconvert_exporter": "python",
   "pygments_lexer": "ipython3",
   "version": "3.9.12"
  }
 },
 "nbformat": 4,
 "nbformat_minor": 5
}
